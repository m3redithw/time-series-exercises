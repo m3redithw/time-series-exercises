{
 "cells": [
  {
   "cell_type": "markdown",
   "id": "a4f61d52",
   "metadata": {},
   "source": [
    "# Data Preparation Exercises\n",
    "\n",
    "Using your store items data:"
   ]
  },
  {
   "cell_type": "markdown",
   "id": "65485abe",
   "metadata": {},
   "source": [
    "## 1. Convert date column to datetime format."
   ]
  },
  {
   "cell_type": "markdown",
   "id": "de8675ef",
   "metadata": {},
   "source": [
    "## 2. Plot the distribution of `sale_amount` and `item_price`."
   ]
  },
  {
   "cell_type": "markdown",
   "id": "d3c4a1cc",
   "metadata": {},
   "source": [
    "## 3. Set the index to be the datetime variable."
   ]
  },
  {
   "cell_type": "markdown",
   "id": "acc390ed",
   "metadata": {},
   "source": [
    "## 4. Add a 'month' and 'day of week' column to your dataframe."
   ]
  },
  {
   "cell_type": "markdown",
   "id": "6ce4b158",
   "metadata": {},
   "source": [
    "## 5. Add a column to your dataframe, `sales_total`, which is a derived from `sale_amount` (total items) and `item_price`."
   ]
  },
  {
   "cell_type": "markdown",
   "id": "b02b0639",
   "metadata": {},
   "source": [
    "## 6. Make sure all the work that you have done above is reproducible. That is, you should put the code above into separate functions and be able to re-run the functions and get the same results.\n"
   ]
  },
  {
   "cell_type": "markdown",
   "id": "d7f32353",
   "metadata": {},
   "source": []
  }
 ],
 "metadata": {
  "kernelspec": {
   "display_name": "Python 3 (ipykernel)",
   "language": "python",
   "name": "python3"
  },
  "language_info": {
   "codemirror_mode": {
    "name": "ipython",
    "version": 3
   },
   "file_extension": ".py",
   "mimetype": "text/x-python",
   "name": "python",
   "nbconvert_exporter": "python",
   "pygments_lexer": "ipython3",
   "version": "3.9.12"
  }
 },
 "nbformat": 4,
 "nbformat_minor": 5
}
