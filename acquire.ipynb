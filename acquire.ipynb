{
 "cells": [
  {
   "cell_type": "markdown",
   "id": "a5474677",
   "metadata": {},
   "source": [
    "# Acquire Exercises"
   ]
  },
  {
   "cell_type": "markdown",
   "id": "695f7d24",
   "metadata": {},
   "source": [
    "The end result of this exercise should be a file named acquire.py."
   ]
  },
  {
   "cell_type": "code",
   "execution_count": 1,
   "id": "2ff2509f",
   "metadata": {},
   "outputs": [],
   "source": [
    "import pandas as pd\n",
    "\n",
    "import requests"
   ]
  },
  {
   "cell_type": "markdown",
   "id": "d7e8b2a9",
   "metadata": {},
   "source": [
    "## 1. Using the code from the lesson as a guide and the REST API from https://python.zgulde.net/api/v1/items as we did in the lesson, create a dataframe named `items` that has all of the data for items."
   ]
  },
  {
   "cell_type": "code",
   "execution_count": 5,
   "id": "9b843cd1",
   "metadata": {},
   "outputs": [],
   "source": [
    "domain = 'https://python.zgulde.net'\n",
    "endpoint = '/api/v1/items'\n",
    "items = []\n",
    "\n",
    "url = domain + endpoint\n",
    "\n",
    "response = requests.get(url)\n",
    "data = response.json()\n",
    "# .extend adds elemnts from a list to another list\n",
    "items.extend(data['payload']['items'])"
   ]
  },
  {
   "cell_type": "code",
   "execution_count": 6,
   "id": "e0e69fb1",
   "metadata": {},
   "outputs": [
    {
     "data": {
      "text/plain": [
       "'/api/v1/items?page=2'"
      ]
     },
     "execution_count": 6,
     "metadata": {},
     "output_type": "execute_result"
    }
   ],
   "source": [
    "data['payload']['next_page']"
   ]
  },
  {
   "cell_type": "code",
   "execution_count": 7,
   "id": "35fe0acf",
   "metadata": {},
   "outputs": [
    {
     "name": "stdout",
     "output_type": "stream",
     "text": [
      "Next url: https://python.zgulde.net/api/v1/items?page=2\n"
     ]
    }
   ],
   "source": [
    "url = domain + data['payload']['next_page']\n",
    "print('Next url:', url)"
   ]
  },
  {
   "cell_type": "code",
   "execution_count": 8,
   "id": "8d287b55",
   "metadata": {},
   "outputs": [],
   "source": [
    "response = requests.get(url)\n",
    "data = response.json()\n",
    "items.extend(data['payload']['items'])"
   ]
  },
  {
   "cell_type": "code",
   "execution_count": 9,
   "id": "0643d0b5",
   "metadata": {},
   "outputs": [
    {
     "name": "stdout",
     "output_type": "stream",
     "text": [
      "next url: https://python.zgulde.net/api/v1/items?page=3\n"
     ]
    }
   ],
   "source": [
    "url = domain + data['payload']['next_page']\n",
    "print('next url:', url)"
   ]
  },
  {
   "cell_type": "code",
   "execution_count": 10,
   "id": "80d34520",
   "metadata": {},
   "outputs": [],
   "source": [
    "response = requests.get(url)\n",
    "data = response.json()\n",
    "items.extend(data['payload']['items'])"
   ]
  },
  {
   "cell_type": "code",
   "execution_count": 11,
   "id": "551b9d9c",
   "metadata": {},
   "outputs": [
    {
     "name": "stdout",
     "output_type": "stream",
     "text": [
      "next endpoint None\n"
     ]
    }
   ],
   "source": [
    "# Hint hint: if data['payload']['next_page'] is None:\n",
    "print('next endpoint', data['payload']['next_page'])"
   ]
  },
  {
   "cell_type": "code",
   "execution_count": 104,
   "id": "bbad4b36",
   "metadata": {},
   "outputs": [],
   "source": [
    "itemsdf = pd.DataFrame(items)"
   ]
  },
  {
   "cell_type": "markdown",
   "id": "a0353982",
   "metadata": {},
   "source": [
    "## 2. Do the same thing, but for stores (https://python.zgulde.net/api/v1/stores)"
   ]
  },
  {
   "cell_type": "code",
   "execution_count": 28,
   "id": "e9159a19",
   "metadata": {},
   "outputs": [],
   "source": [
    "domain = 'https://python.zgulde.net'\n",
    "endpoint = '/api/v1/stores'\n",
    "stores = []\n",
    "\n",
    "url = domain + endpoint\n",
    "\n",
    "response = requests.get(url)\n",
    "data = response.json()\n",
    "# .extend adds elemnts from a list to another list\n",
    "stores.extend(data['payload']['stores'])"
   ]
  },
  {
   "cell_type": "code",
   "execution_count": 31,
   "id": "87f2cb3c",
   "metadata": {},
   "outputs": [
    {
     "name": "stdout",
     "output_type": "stream",
     "text": [
      "next endpoint None\n"
     ]
    }
   ],
   "source": [
    "print('next endpoint', data['payload']['next_page'])"
   ]
  },
  {
   "cell_type": "code",
   "execution_count": 105,
   "id": "cbe283e0",
   "metadata": {},
   "outputs": [],
   "source": [
    "storesdf = pd.DataFrame(stores)"
   ]
  },
  {
   "cell_type": "markdown",
   "id": "20025761",
   "metadata": {},
   "source": [
    "## 3. Extract the data for sales (https://python.zgulde.net/api/v1/sales). There are a lot of pages of data here, so your code will need to be a little more complex. Your code should continue fetching data from the next page until all of the data is extracted."
   ]
  },
  {
   "cell_type": "code",
   "execution_count": 91,
   "id": "ccc9313f",
   "metadata": {},
   "outputs": [],
   "source": [
    "domain = 'https://python.zgulde.net'\n",
    "endpoint = '/api/v1/sales'\n",
    "sales = []\n",
    "url = domain + endpoint\n",
    "\n",
    "page = 1\n",
    "while page < data['payload']['max_page']:\n",
    "    \n",
    "    response = requests.get(url)\n",
    "    data = response.json()\n",
    "    # .extend adds elemnts from a list to another list\n",
    "    sales.extend(data['payload']['sales'])\n",
    "    # Set the url for the page\n",
    "    url = domain + data['payload']['next_page']\n",
    "\n",
    "    page +=1\n",
    "\n",
    "# url = domain + data['payload']['next_page']\n",
    "# response = requests.get(url)\n",
    "# data = response.json()\n",
    "# sales.extend(data['payload']['sales'])"
   ]
  },
  {
   "cell_type": "code",
   "execution_count": 98,
   "id": "1af2277c",
   "metadata": {},
   "outputs": [],
   "source": [
    "url = domain + data['payload']['next_page']\n",
    "response = requests.get(url)\n",
    "data = response.json()\n",
    "sales.extend(data['payload']['sales'])"
   ]
  },
  {
   "cell_type": "code",
   "execution_count": 99,
   "id": "1b2c8a72",
   "metadata": {},
   "outputs": [],
   "source": [
    "salesdf = pd.DataFrame(sales)"
   ]
  },
  {
   "cell_type": "code",
   "execution_count": 100,
   "id": "80597613",
   "metadata": {},
   "outputs": [
    {
     "data": {
      "text/plain": [
       "(913000, 5)"
      ]
     },
     "execution_count": 100,
     "metadata": {},
     "output_type": "execute_result"
    }
   ],
   "source": [
    "salesdf.shape"
   ]
  },
  {
   "cell_type": "code",
   "execution_count": 101,
   "id": "295d4b0c",
   "metadata": {},
   "outputs": [
    {
     "data": {
      "text/plain": [
       "0              1\n",
       "1              2\n",
       "2              3\n",
       "3              4\n",
       "4              5\n",
       "           ...  \n",
       "912995    912996\n",
       "912996    912997\n",
       "912997    912998\n",
       "912998    912999\n",
       "912999    913000\n",
       "Name: sale_id, Length: 913000, dtype: int64"
      ]
     },
     "execution_count": 101,
     "metadata": {},
     "output_type": "execute_result"
    }
   ],
   "source": [
    "salesdf.sale_id"
   ]
  },
  {
   "cell_type": "markdown",
   "id": "157cc3d4",
   "metadata": {},
   "source": [
    "## 4. Save the data in your files to local csv files so that it will be faster to access in the future."
   ]
  },
  {
   "cell_type": "code",
   "execution_count": 106,
   "id": "2c024da0",
   "metadata": {},
   "outputs": [],
   "source": [
    "itemsdf.to_csv('items.csv', index =False)\n",
    "storesdf.to_csv('stores.csv', index =False)\n",
    "salesdf.to_csv('sales.csv', index =False)"
   ]
  },
  {
   "cell_type": "markdown",
   "id": "8e1bf0e2",
   "metadata": {},
   "source": [
    "## 5. Combine the data from your three separate dataframes into one large dataframe."
   ]
  },
  {
   "cell_type": "code",
   "execution_count": 107,
   "id": "08e2d26e",
   "metadata": {},
   "outputs": [
    {
     "data": {
      "text/plain": [
       "Index(['item', 'sale_amount', 'sale_date', 'sale_id', 'store'], dtype='object')"
      ]
     },
     "execution_count": 107,
     "metadata": {},
     "output_type": "execute_result"
    }
   ],
   "source": [
    "salesdf.columns"
   ]
  },
  {
   "cell_type": "code",
   "execution_count": 108,
   "id": "3a83f2db",
   "metadata": {},
   "outputs": [
    {
     "data": {
      "text/plain": [
       "Index(['item_brand', 'item_id', 'item_name', 'item_price', 'item_upc12',\n",
       "       'item_upc14'],\n",
       "      dtype='object')"
      ]
     },
     "execution_count": 108,
     "metadata": {},
     "output_type": "execute_result"
    }
   ],
   "source": [
    "itemsdf.columns"
   ]
  },
  {
   "cell_type": "code",
   "execution_count": 110,
   "id": "77b2597e",
   "metadata": {},
   "outputs": [
    {
     "data": {
      "text/plain": [
       "Index(['store_address', 'store_city', 'store_id', 'store_state',\n",
       "       'store_zipcode'],\n",
       "      dtype='object')"
      ]
     },
     "execution_count": 110,
     "metadata": {},
     "output_type": "execute_result"
    }
   ],
   "source": [
    "storesdf.columns"
   ]
  },
  {
   "cell_type": "code",
   "execution_count": 111,
   "id": "71cfd10a",
   "metadata": {},
   "outputs": [],
   "source": [
    "salesdf = salesdf.rename(columns = {'item': 'item_id', 'store':'store_id'})"
   ]
  },
  {
   "cell_type": "code",
   "execution_count": 112,
   "id": "a8cb41dd",
   "metadata": {},
   "outputs": [],
   "source": [
    "df = pd.merge(salesdf, itemsdf, how='left', on='item_id')\n",
    "df = pd.merge(df, storesdf, how='left', on='store_id')"
   ]
  },
  {
   "cell_type": "code",
   "execution_count": 113,
   "id": "cf9acddd",
   "metadata": {},
   "outputs": [
    {
     "data": {
      "text/plain": [
       "(913000, 14)"
      ]
     },
     "execution_count": 113,
     "metadata": {},
     "output_type": "execute_result"
    }
   ],
   "source": [
    "df.shape"
   ]
  },
  {
   "cell_type": "markdown",
   "id": "77940367",
   "metadata": {},
   "source": [
    "## 6. Acquire the Open Power Systems Data for Germany, which has been rapidly expanding its renewable energy production in recent years. The data set includes country-wide totals of electricity consumption, wind power production, and solar power production for 2006-2017. You can get the data here:\n",
    "https://raw.githubusercontent.com/jenfly/opsd/master/opsd_germany_daily.csv"
   ]
  },
  {
   "cell_type": "code",
   "execution_count": null,
   "id": "b26289c3",
   "metadata": {},
   "outputs": [],
   "source": []
  },
  {
   "cell_type": "markdown",
   "id": "d53563ff",
   "metadata": {},
   "source": [
    "## 7. Make sure all the work that you have done above is reproducible. That is, you should put the code above into separate functions in the acquire.py file and be able to re-run the functions and get the same data."
   ]
  },
  {
   "cell_type": "code",
   "execution_count": null,
   "id": "cbd051e3",
   "metadata": {},
   "outputs": [],
   "source": []
  },
  {
   "cell_type": "code",
   "execution_count": null,
   "id": "8e24ddd9",
   "metadata": {},
   "outputs": [],
   "source": []
  },
  {
   "cell_type": "code",
   "execution_count": null,
   "id": "c3dca658",
   "metadata": {},
   "outputs": [],
   "source": []
  },
  {
   "cell_type": "code",
   "execution_count": null,
   "id": "4395e6d7",
   "metadata": {},
   "outputs": [],
   "source": []
  }
 ],
 "metadata": {
  "kernelspec": {
   "display_name": "Python 3 (ipykernel)",
   "language": "python",
   "name": "python3"
  },
  "language_info": {
   "codemirror_mode": {
    "name": "ipython",
    "version": 3
   },
   "file_extension": ".py",
   "mimetype": "text/x-python",
   "name": "python",
   "nbconvert_exporter": "python",
   "pygments_lexer": "ipython3",
   "version": "3.9.12"
  }
 },
 "nbformat": 4,
 "nbformat_minor": 5
}
