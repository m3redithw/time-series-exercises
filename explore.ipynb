{
 "cells": [
  {
   "cell_type": "markdown",
   "id": "b1bed7dc",
   "metadata": {},
   "source": [
    "# Explore Exercises"
   ]
  },
  {
   "cell_type": "markdown",
   "id": "80c9fb3c",
   "metadata": {},
   "source": [
    "For the store item demand data, you will need to choose a method of aggregating such that each observation is a unique date. For both datasets you should choose a method of splitting your data and only explore the training split."
   ]
  },
  {
   "cell_type": "code",
   "execution_count": 1,
   "id": "8bef20df",
   "metadata": {},
   "outputs": [],
   "source": [
    "import pandas as pd\n",
    "import requests\n",
    "from imports import *"
   ]
  },
  {
   "cell_type": "markdown",
   "id": "7def81e5",
   "metadata": {},
   "source": [
    "## Acquire"
   ]
  },
  {
   "cell_type": "code",
   "execution_count": 2,
   "id": "15988057",
   "metadata": {},
   "outputs": [],
   "source": [
    "df = acquire.get_whole_sales()"
   ]
  },
  {
   "cell_type": "code",
   "execution_count": 4,
   "id": "4a9b8a73",
   "metadata": {},
   "outputs": [
    {
     "data": {
      "text/plain": [
       "(913000, 15)"
      ]
     },
     "execution_count": 4,
     "metadata": {},
     "output_type": "execute_result"
    }
   ],
   "source": [
    "df.shape"
   ]
  },
  {
   "cell_type": "markdown",
   "id": "c6cb821e",
   "metadata": {},
   "source": [
    "## Prepare"
   ]
  },
  {
   "cell_type": "code",
   "execution_count": 5,
   "id": "a4ab5885",
   "metadata": {},
   "outputs": [],
   "source": [
    "df = prepare.prep_sales(df)"
   ]
  },
  {
   "cell_type": "code",
   "execution_count": 6,
   "id": "d7a60a7d",
   "metadata": {},
   "outputs": [
    {
     "data": {
      "text/html": [
       "<div>\n",
       "<style scoped>\n",
       "    .dataframe tbody tr th:only-of-type {\n",
       "        vertical-align: middle;\n",
       "    }\n",
       "\n",
       "    .dataframe tbody tr th {\n",
       "        vertical-align: top;\n",
       "    }\n",
       "\n",
       "    .dataframe thead th {\n",
       "        text-align: right;\n",
       "    }\n",
       "</style>\n",
       "<table border=\"1\" class=\"dataframe\">\n",
       "  <thead>\n",
       "    <tr style=\"text-align: right;\">\n",
       "      <th></th>\n",
       "      <th>item_id</th>\n",
       "      <th>sale_amount</th>\n",
       "      <th>sale_id</th>\n",
       "      <th>store_id</th>\n",
       "      <th>item_brand</th>\n",
       "      <th>item_name</th>\n",
       "      <th>item_price</th>\n",
       "      <th>item_upc12</th>\n",
       "      <th>item_upc14</th>\n",
       "      <th>store_address</th>\n",
       "      <th>store_city</th>\n",
       "      <th>store_state</th>\n",
       "      <th>store_zipcode</th>\n",
       "      <th>month</th>\n",
       "      <th>day_of_week</th>\n",
       "      <th>sales_total</th>\n",
       "    </tr>\n",
       "    <tr>\n",
       "      <th>sale_date</th>\n",
       "      <th></th>\n",
       "      <th></th>\n",
       "      <th></th>\n",
       "      <th></th>\n",
       "      <th></th>\n",
       "      <th></th>\n",
       "      <th></th>\n",
       "      <th></th>\n",
       "      <th></th>\n",
       "      <th></th>\n",
       "      <th></th>\n",
       "      <th></th>\n",
       "      <th></th>\n",
       "      <th></th>\n",
       "      <th></th>\n",
       "      <th></th>\n",
       "    </tr>\n",
       "  </thead>\n",
       "  <tbody>\n",
       "    <tr>\n",
       "      <th>2013-01-01</th>\n",
       "      <td>1</td>\n",
       "      <td>13.0</td>\n",
       "      <td>1</td>\n",
       "      <td>1</td>\n",
       "      <td>Riceland</td>\n",
       "      <td>Riceland American Jazmine Rice</td>\n",
       "      <td>0.84</td>\n",
       "      <td>35200264013</td>\n",
       "      <td>35200264013</td>\n",
       "      <td>12125 Alamo Ranch Pkwy</td>\n",
       "      <td>San Antonio</td>\n",
       "      <td>TX</td>\n",
       "      <td>78253</td>\n",
       "      <td>Jan</td>\n",
       "      <td>Tuesday</td>\n",
       "      <td>10.92</td>\n",
       "    </tr>\n",
       "    <tr>\n",
       "      <th>2013-01-01</th>\n",
       "      <td>12</td>\n",
       "      <td>26.0</td>\n",
       "      <td>211817</td>\n",
       "      <td>7</td>\n",
       "      <td>Mueller</td>\n",
       "      <td>Mueller Sport Care Basic Support Level Medium Elastic Knee Support</td>\n",
       "      <td>8.40</td>\n",
       "      <td>74676640211</td>\n",
       "      <td>74676640211</td>\n",
       "      <td>12018 Perrin Beitel Rd</td>\n",
       "      <td>San Antonio</td>\n",
       "      <td>TX</td>\n",
       "      <td>78217</td>\n",
       "      <td>Jan</td>\n",
       "      <td>Tuesday</td>\n",
       "      <td>218.40</td>\n",
       "    </tr>\n",
       "    <tr>\n",
       "      <th>2013-01-01</th>\n",
       "      <td>46</td>\n",
       "      <td>27.0</td>\n",
       "      <td>832657</td>\n",
       "      <td>7</td>\n",
       "      <td>Mama Marys</td>\n",
       "      <td>Pizza Sauce</td>\n",
       "      <td>4.65</td>\n",
       "      <td>35457770664</td>\n",
       "      <td>35457770664</td>\n",
       "      <td>12018 Perrin Beitel Rd</td>\n",
       "      <td>San Antonio</td>\n",
       "      <td>TX</td>\n",
       "      <td>78217</td>\n",
       "      <td>Jan</td>\n",
       "      <td>Tuesday</td>\n",
       "      <td>125.55</td>\n",
       "    </tr>\n",
       "    <tr>\n",
       "      <th>2013-01-01</th>\n",
       "      <td>12</td>\n",
       "      <td>54.0</td>\n",
       "      <td>213643</td>\n",
       "      <td>8</td>\n",
       "      <td>Mueller</td>\n",
       "      <td>Mueller Sport Care Basic Support Level Medium Elastic Knee Support</td>\n",
       "      <td>8.40</td>\n",
       "      <td>74676640211</td>\n",
       "      <td>74676640211</td>\n",
       "      <td>15000 San Pedro Ave</td>\n",
       "      <td>San Antonio</td>\n",
       "      <td>TX</td>\n",
       "      <td>78232</td>\n",
       "      <td>Jan</td>\n",
       "      <td>Tuesday</td>\n",
       "      <td>453.60</td>\n",
       "    </tr>\n",
       "    <tr>\n",
       "      <th>2013-01-01</th>\n",
       "      <td>12</td>\n",
       "      <td>35.0</td>\n",
       "      <td>215469</td>\n",
       "      <td>9</td>\n",
       "      <td>Mueller</td>\n",
       "      <td>Mueller Sport Care Basic Support Level Medium Elastic Knee Support</td>\n",
       "      <td>8.40</td>\n",
       "      <td>74676640211</td>\n",
       "      <td>74676640211</td>\n",
       "      <td>735 SW Military Dr</td>\n",
       "      <td>San Antonio</td>\n",
       "      <td>TX</td>\n",
       "      <td>78221</td>\n",
       "      <td>Jan</td>\n",
       "      <td>Tuesday</td>\n",
       "      <td>294.00</td>\n",
       "    </tr>\n",
       "  </tbody>\n",
       "</table>\n",
       "</div>"
      ],
      "text/plain": [
       "            item_id  sale_amount  sale_id  store_id  item_brand  \\\n",
       "sale_date                                                         \n",
       "2013-01-01        1         13.0        1         1    Riceland   \n",
       "2013-01-01       12         26.0   211817         7     Mueller   \n",
       "2013-01-01       46         27.0   832657         7  Mama Marys   \n",
       "2013-01-01       12         54.0   213643         8     Mueller   \n",
       "2013-01-01       12         35.0   215469         9     Mueller   \n",
       "\n",
       "                                                                     item_name  \\\n",
       "sale_date                                                                        \n",
       "2013-01-01                                      Riceland American Jazmine Rice   \n",
       "2013-01-01  Mueller Sport Care Basic Support Level Medium Elastic Knee Support   \n",
       "2013-01-01                                                         Pizza Sauce   \n",
       "2013-01-01  Mueller Sport Care Basic Support Level Medium Elastic Knee Support   \n",
       "2013-01-01  Mueller Sport Care Basic Support Level Medium Elastic Knee Support   \n",
       "\n",
       "            item_price   item_upc12   item_upc14           store_address  \\\n",
       "sale_date                                                                  \n",
       "2013-01-01        0.84  35200264013  35200264013  12125 Alamo Ranch Pkwy   \n",
       "2013-01-01        8.40  74676640211  74676640211  12018 Perrin Beitel Rd   \n",
       "2013-01-01        4.65  35457770664  35457770664  12018 Perrin Beitel Rd   \n",
       "2013-01-01        8.40  74676640211  74676640211     15000 San Pedro Ave   \n",
       "2013-01-01        8.40  74676640211  74676640211      735 SW Military Dr   \n",
       "\n",
       "             store_city store_state  store_zipcode month day_of_week  \\\n",
       "sale_date                                                              \n",
       "2013-01-01  San Antonio          TX          78253   Jan     Tuesday   \n",
       "2013-01-01  San Antonio          TX          78217   Jan     Tuesday   \n",
       "2013-01-01  San Antonio          TX          78217   Jan     Tuesday   \n",
       "2013-01-01  San Antonio          TX          78232   Jan     Tuesday   \n",
       "2013-01-01  San Antonio          TX          78221   Jan     Tuesday   \n",
       "\n",
       "            sales_total  \n",
       "sale_date                \n",
       "2013-01-01        10.92  \n",
       "2013-01-01       218.40  \n",
       "2013-01-01       125.55  \n",
       "2013-01-01       453.60  \n",
       "2013-01-01       294.00  "
      ]
     },
     "execution_count": 6,
     "metadata": {},
     "output_type": "execute_result"
    }
   ],
   "source": [
    "df.head()"
   ]
  },
  {
   "cell_type": "markdown",
   "id": "37ff85d2",
   "metadata": {},
   "source": [
    "## Data Splitting"
   ]
  },
  {
   "cell_type": "markdown",
   "id": "b3c744d3",
   "metadata": {},
   "source": [
    "- Ideally all splits contain a season\n",
    "- Human-based: Using domain knowledge, a cutoff is selected. (ex: use the last year as Test)\n",
    "- Percentage-based: A cutoff is selected arbitrarily (ex: use the last 20% of observations as Test)\n",
    "- Cross-validation-based: Break data into slices and use successive slices as train and test repeatedly\n",
    "\n",
    "`sklearn.model_selection.TimeSeriesSplit`"
   ]
  },
  {
   "cell_type": "markdown",
   "id": "48922898",
   "metadata": {},
   "source": [
    "### Human-Based"
   ]
  },
  {
   "cell_type": "code",
   "execution_count": 11,
   "id": "a1b6ef85",
   "metadata": {},
   "outputs": [
    {
     "data": {
      "text/plain": [
       "Timestamp('2013-01-01 00:00:00')"
      ]
     },
     "execution_count": 11,
     "metadata": {},
     "output_type": "execute_result"
    }
   ],
   "source": [
    "# Checking the date range\n",
    "df.index.min()"
   ]
  },
  {
   "cell_type": "code",
   "execution_count": 12,
   "id": "0f902949",
   "metadata": {},
   "outputs": [
    {
     "data": {
      "text/plain": [
       "Timestamp('2017-12-31 00:00:00')"
      ]
     },
     "execution_count": 12,
     "metadata": {},
     "output_type": "execute_result"
    }
   ],
   "source": [
    "df.index.max()"
   ]
  },
  {
   "cell_type": "code",
   "execution_count": 13,
   "id": "49ebe835",
   "metadata": {},
   "outputs": [],
   "source": [
    "# Splitting train from 2013-2016, 2017 for test\n",
    "train = df[:'2016']\n",
    "test = df['2017']"
   ]
  },
  {
   "cell_type": "code",
   "execution_count": 16,
   "id": "bf59bb05",
   "metadata": {},
   "outputs": [
    {
     "data": {
      "text/plain": [
       "[<matplotlib.lines.Line2D at 0x7f91cdeb5a60>]"
      ]
     },
     "execution_count": 16,
     "metadata": {},
     "output_type": "execute_result"
    },
    {
     "data": {
      "image/png": "[encoded data removed]",
      "text/plain": [
       "<Figure size 1152x576 with 1 Axes>"
      ]
     },
     "metadata": {
      "needs_background": "light"
     },
     "output_type": "display_data"
    }
   ],
   "source": [
    "# Visualizing train, test set\n",
    "plt.figure(figsize = (16,8))\n",
    "plt.plot(train.index, train.sales_total)\n",
    "plt.plot(test.index, test.sales_total)"
   ]
  },
  {
   "cell_type": "markdown",
   "id": "642d230b",
   "metadata": {},
   "source": [
    "## Explore"
   ]
  },
  {
   "cell_type": "code",
   "execution_count": 18,
   "id": "568271dd",
   "metadata": {},
   "outputs": [
    {
     "data": {
      "text/plain": [
       "sale_date\n",
       "2013-01-01     10.92\n",
       "2013-01-01    218.40\n",
       "2013-01-01    125.55\n",
       "2013-01-01    453.60\n",
       "2013-01-01    294.00\n",
       "Name: sales_total, dtype: float64"
      ]
     },
     "execution_count": 18,
     "metadata": {},
     "output_type": "execute_result"
    }
   ],
   "source": [
    "y = train.sales_total\n",
    "y.head()"
   ]
  },
  {
   "cell_type": "markdown",
   "id": "f4d92c7b",
   "metadata": {},
   "source": [
    "### Basic Histogram (Ignoring Time Component)"
   ]
  },
  {
   "cell_type": "code",
   "execution_count": 20,
   "id": "cc425f28",
   "metadata": {},
   "outputs": [
    {
     "data": {
      "text/plain": [
       "<AxesSubplot:title={'center':'Distribution of Sales Total'}, xlabel='Sales Amount in USD', ylabel='Frequency'>"
      ]
     },
     "execution_count": 20,
     "metadata": {},
     "output_type": "execute_result"
    },
    {
     "data": {
      "image/png": "[encoded data removed]",
      "text/plain": [
       "<Figure size 1152x576 with 1 Axes>"
      ]
     },
     "metadata": {
      "needs_background": "light"
     },
     "output_type": "display_data"
    }
   ],
   "source": [
    "plt.figure(figsize=(16,8))\n",
    "plt.title('Distribution of Sales Total')\n",
    "plt.xlabel('Sales Amount in USD')\n",
    "y.plot.hist(linewidth=1.2, edgecolor='black')"
   ]
  },
  {
   "cell_type": "markdown",
   "id": "5f095231",
   "metadata": {},
   "source": []
  }
 ],
 "metadata": {
  "kernelspec": {
   "display_name": "Python 3 (ipykernel)",
   "language": "python",
   "name": "python3"
  },
  "language_info": {
   "codemirror_mode": {
    "name": "ipython",
    "version": 3
   },
   "file_extension": ".py",
   "mimetype": "text/x-python",
   "name": "python",
   "nbconvert_exporter": "python",
   "pygments_lexer": "ipython3",
   "version": "3.9.12"
  }
 },
 "nbformat": 4,
 "nbformat_minor": 5
}
